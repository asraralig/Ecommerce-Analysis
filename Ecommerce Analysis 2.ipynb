{
 "cells": [
  {
   "cell_type": "code",
   "execution_count": 1,
   "id": "46504bf1",
   "metadata": {},
   "outputs": [],
   "source": [
    "import pandas as pd\n",
    "import numpy as np\n",
    "import matplotlib.pyplot as plt\n",
    "import seaborn as sns\n",
    "%matplotlib inline\n",
    "import matplotlib"
   ]
  },
  {
   "cell_type": "code",
   "execution_count": 2,
   "id": "b9a5e1df",
   "metadata": {},
   "outputs": [],
   "source": [
    "df=pd.read_excel(\"Project 02_Ecommerce_Dataset.xlsx\",\"Sales\")"
   ]
  },
  {
   "cell_type": "code",
   "execution_count": 3,
   "id": "d1b8c818",
   "metadata": {},
   "outputs": [
    {
     "data": {
      "text/html": [
       "<div>\n",
       "<style scoped>\n",
       "    .dataframe tbody tr th:only-of-type {\n",
       "        vertical-align: middle;\n",
       "    }\n",
       "\n",
       "    .dataframe tbody tr th {\n",
       "        vertical-align: top;\n",
       "    }\n",
       "\n",
       "    .dataframe thead th {\n",
       "        text-align: right;\n",
       "    }\n",
       "</style>\n",
       "<table border=\"1\" class=\"dataframe\">\n",
       "  <thead>\n",
       "    <tr style=\"text-align: right;\">\n",
       "      <th></th>\n",
       "      <th>Order ID</th>\n",
       "      <th>Order Date</th>\n",
       "      <th>Shipping Date</th>\n",
       "      <th>Aging</th>\n",
       "      <th>Ship Mode</th>\n",
       "      <th>Product Category</th>\n",
       "      <th>Product</th>\n",
       "      <th>Sales</th>\n",
       "      <th>Quantity</th>\n",
       "      <th>Discount</th>\n",
       "      <th>Profit</th>\n",
       "      <th>Shipping Cost</th>\n",
       "      <th>Order Priority</th>\n",
       "      <th>Customer ID</th>\n",
       "      <th>Customer Name</th>\n",
       "      <th>Segment</th>\n",
       "      <th>City</th>\n",
       "      <th>State</th>\n",
       "      <th>Country</th>\n",
       "      <th>Region</th>\n",
       "    </tr>\n",
       "  </thead>\n",
       "  <tbody>\n",
       "    <tr>\n",
       "      <th>0</th>\n",
       "      <td>AU-2015-1</td>\n",
       "      <td>2015-11-09</td>\n",
       "      <td>2015-11-17</td>\n",
       "      <td>8</td>\n",
       "      <td>First Class</td>\n",
       "      <td>Auto &amp; Accessories</td>\n",
       "      <td>Car Media Players</td>\n",
       "      <td>140</td>\n",
       "      <td>2</td>\n",
       "      <td>0.05</td>\n",
       "      <td>46.00</td>\n",
       "      <td>4.600</td>\n",
       "      <td>Medium</td>\n",
       "      <td>LS-001</td>\n",
       "      <td>Lane Daniels</td>\n",
       "      <td>Consumer</td>\n",
       "      <td>Brisbane</td>\n",
       "      <td>Queensland</td>\n",
       "      <td>Australia</td>\n",
       "      <td>Oceania</td>\n",
       "    </tr>\n",
       "    <tr>\n",
       "      <th>1</th>\n",
       "      <td>AU-2015-2</td>\n",
       "      <td>2015-06-30</td>\n",
       "      <td>2015-07-02</td>\n",
       "      <td>2</td>\n",
       "      <td>First Class</td>\n",
       "      <td>Auto &amp; Accessories</td>\n",
       "      <td>Car Speakers</td>\n",
       "      <td>211</td>\n",
       "      <td>3</td>\n",
       "      <td>0.03</td>\n",
       "      <td>112.01</td>\n",
       "      <td>11.201</td>\n",
       "      <td>Medium</td>\n",
       "      <td>IZ-002</td>\n",
       "      <td>Alvarado Kriz</td>\n",
       "      <td>Home Office</td>\n",
       "      <td>Berlin</td>\n",
       "      <td>Berlin</td>\n",
       "      <td>Germany</td>\n",
       "      <td>Central</td>\n",
       "    </tr>\n",
       "    <tr>\n",
       "      <th>2</th>\n",
       "      <td>AU-2015-3</td>\n",
       "      <td>2015-12-05</td>\n",
       "      <td>2015-12-13</td>\n",
       "      <td>8</td>\n",
       "      <td>First Class</td>\n",
       "      <td>Auto &amp; Accessories</td>\n",
       "      <td>Car Body Covers</td>\n",
       "      <td>117</td>\n",
       "      <td>5</td>\n",
       "      <td>0.01</td>\n",
       "      <td>31.15</td>\n",
       "      <td>3.115</td>\n",
       "      <td>Critical</td>\n",
       "      <td>EN-003</td>\n",
       "      <td>Moon Weien</td>\n",
       "      <td>Consumer</td>\n",
       "      <td>Porirua</td>\n",
       "      <td>Wellington</td>\n",
       "      <td>New Zealand</td>\n",
       "      <td>Oceania</td>\n",
       "    </tr>\n",
       "    <tr>\n",
       "      <th>3</th>\n",
       "      <td>AU-2015-4</td>\n",
       "      <td>2015-05-09</td>\n",
       "      <td>2015-05-16</td>\n",
       "      <td>7</td>\n",
       "      <td>First Class</td>\n",
       "      <td>Auto &amp; Accessories</td>\n",
       "      <td>Car &amp; Bike Care</td>\n",
       "      <td>118</td>\n",
       "      <td>2</td>\n",
       "      <td>0.05</td>\n",
       "      <td>26.20</td>\n",
       "      <td>2.620</td>\n",
       "      <td>High</td>\n",
       "      <td>AN-004</td>\n",
       "      <td>Sanchez Bergman</td>\n",
       "      <td>Corporate</td>\n",
       "      <td>Kabul</td>\n",
       "      <td>Kabul</td>\n",
       "      <td>Afghanistan</td>\n",
       "      <td>Central Asia</td>\n",
       "    </tr>\n",
       "    <tr>\n",
       "      <th>4</th>\n",
       "      <td>AU-2015-5</td>\n",
       "      <td>2015-07-09</td>\n",
       "      <td>2015-07-18</td>\n",
       "      <td>9</td>\n",
       "      <td>First Class</td>\n",
       "      <td>Auto &amp; Accessories</td>\n",
       "      <td>Tyre</td>\n",
       "      <td>250</td>\n",
       "      <td>1</td>\n",
       "      <td>0.04</td>\n",
       "      <td>160.00</td>\n",
       "      <td>16.000</td>\n",
       "      <td>Critical</td>\n",
       "      <td>ON-005</td>\n",
       "      <td>Rowe Jackson</td>\n",
       "      <td>Corporate</td>\n",
       "      <td>Townsville</td>\n",
       "      <td>Queensland</td>\n",
       "      <td>Australia</td>\n",
       "      <td>Oceania</td>\n",
       "    </tr>\n",
       "    <tr>\n",
       "      <th>5</th>\n",
       "      <td>AU-2015-6</td>\n",
       "      <td>2015-02-25</td>\n",
       "      <td>2015-03-05</td>\n",
       "      <td>8</td>\n",
       "      <td>First Class</td>\n",
       "      <td>Auto &amp; Accessories</td>\n",
       "      <td>Bike Tyres</td>\n",
       "      <td>72</td>\n",
       "      <td>3</td>\n",
       "      <td>0.04</td>\n",
       "      <td>24.00</td>\n",
       "      <td>2.400</td>\n",
       "      <td>Critical</td>\n",
       "      <td>TO-006</td>\n",
       "      <td>Carter Barreto</td>\n",
       "      <td>Corporate</td>\n",
       "      <td>Bytom</td>\n",
       "      <td>Silesia</td>\n",
       "      <td>Poland</td>\n",
       "      <td>EMEA</td>\n",
       "    </tr>\n",
       "    <tr>\n",
       "      <th>6</th>\n",
       "      <td>AU-2015-7</td>\n",
       "      <td>2015-04-09</td>\n",
       "      <td>2015-04-10</td>\n",
       "      <td>1</td>\n",
       "      <td>First Class</td>\n",
       "      <td>Auto &amp; Accessories</td>\n",
       "      <td>Car Mat</td>\n",
       "      <td>54</td>\n",
       "      <td>1</td>\n",
       "      <td>0.05</td>\n",
       "      <td>54.00</td>\n",
       "      <td>5.400</td>\n",
       "      <td>High</td>\n",
       "      <td>OM-007</td>\n",
       "      <td>Mcconnell Tom</td>\n",
       "      <td>Consumer</td>\n",
       "      <td>Chicago</td>\n",
       "      <td>Illinois</td>\n",
       "      <td>United States</td>\n",
       "      <td>Central</td>\n",
       "    </tr>\n",
       "    <tr>\n",
       "      <th>7</th>\n",
       "      <td>AU-2015-8</td>\n",
       "      <td>2015-03-30</td>\n",
       "      <td>2015-04-06</td>\n",
       "      <td>7</td>\n",
       "      <td>First Class</td>\n",
       "      <td>Auto &amp; Accessories</td>\n",
       "      <td>Car Seat Covers</td>\n",
       "      <td>114</td>\n",
       "      <td>5</td>\n",
       "      <td>0.02</td>\n",
       "      <td>22.60</td>\n",
       "      <td>2.260</td>\n",
       "      <td>Critical</td>\n",
       "      <td>AN-008</td>\n",
       "      <td>Dennis Holloman</td>\n",
       "      <td>Corporate</td>\n",
       "      <td>Suzhou</td>\n",
       "      <td>Anhui</td>\n",
       "      <td>China</td>\n",
       "      <td>North Asia</td>\n",
       "    </tr>\n",
       "    <tr>\n",
       "      <th>8</th>\n",
       "      <td>AU-2015-9</td>\n",
       "      <td>2015-02-09</td>\n",
       "      <td>2015-02-16</td>\n",
       "      <td>7</td>\n",
       "      <td>First Class</td>\n",
       "      <td>Auto &amp; Accessories</td>\n",
       "      <td>Car Pillow &amp; Neck Rest</td>\n",
       "      <td>231</td>\n",
       "      <td>5</td>\n",
       "      <td>0.03</td>\n",
       "      <td>116.35</td>\n",
       "      <td>11.635</td>\n",
       "      <td>Critical</td>\n",
       "      <td>EN-009</td>\n",
       "      <td>Wall Olsen</td>\n",
       "      <td>Consumer</td>\n",
       "      <td>Juárez</td>\n",
       "      <td>Chihuahua</td>\n",
       "      <td>Mexico</td>\n",
       "      <td>North</td>\n",
       "    </tr>\n",
       "    <tr>\n",
       "      <th>9</th>\n",
       "      <td>AU-2015-10</td>\n",
       "      <td>2015-04-21</td>\n",
       "      <td>2015-05-01</td>\n",
       "      <td>10</td>\n",
       "      <td>First Class</td>\n",
       "      <td>Auto &amp; Accessories</td>\n",
       "      <td>Car Media Players</td>\n",
       "      <td>140</td>\n",
       "      <td>2</td>\n",
       "      <td>0.02</td>\n",
       "      <td>54.40</td>\n",
       "      <td>5.440</td>\n",
       "      <td>Critical</td>\n",
       "      <td>TT-0010</td>\n",
       "      <td>Shepard Witt</td>\n",
       "      <td>Consumer</td>\n",
       "      <td>Soyapango</td>\n",
       "      <td>San Salvador</td>\n",
       "      <td>El Salvador</td>\n",
       "      <td>Central</td>\n",
       "    </tr>\n",
       "  </tbody>\n",
       "</table>\n",
       "</div>"
      ],
      "text/plain": [
       "     Order ID Order Date Shipping Date  Aging    Ship Mode  \\\n",
       "0   AU-2015-1 2015-11-09    2015-11-17      8  First Class   \n",
       "1   AU-2015-2 2015-06-30    2015-07-02      2  First Class   \n",
       "2   AU-2015-3 2015-12-05    2015-12-13      8  First Class   \n",
       "3   AU-2015-4 2015-05-09    2015-05-16      7  First Class   \n",
       "4   AU-2015-5 2015-07-09    2015-07-18      9  First Class   \n",
       "5   AU-2015-6 2015-02-25    2015-03-05      8  First Class   \n",
       "6   AU-2015-7 2015-04-09    2015-04-10      1  First Class   \n",
       "7   AU-2015-8 2015-03-30    2015-04-06      7  First Class   \n",
       "8   AU-2015-9 2015-02-09    2015-02-16      7  First Class   \n",
       "9  AU-2015-10 2015-04-21    2015-05-01     10  First Class   \n",
       "\n",
       "     Product Category                 Product  Sales  Quantity  Discount  \\\n",
       "0  Auto & Accessories       Car Media Players    140         2      0.05   \n",
       "1  Auto & Accessories            Car Speakers    211         3      0.03   \n",
       "2  Auto & Accessories         Car Body Covers    117         5      0.01   \n",
       "3  Auto & Accessories         Car & Bike Care    118         2      0.05   \n",
       "4  Auto & Accessories                    Tyre    250         1      0.04   \n",
       "5  Auto & Accessories              Bike Tyres     72         3      0.04   \n",
       "6  Auto & Accessories                 Car Mat     54         1      0.05   \n",
       "7  Auto & Accessories         Car Seat Covers    114         5      0.02   \n",
       "8  Auto & Accessories  Car Pillow & Neck Rest    231         5      0.03   \n",
       "9  Auto & Accessories       Car Media Players    140         2      0.02   \n",
       "\n",
       "   Profit  Shipping Cost Order Priority Customer ID    Customer Name  \\\n",
       "0   46.00          4.600         Medium      LS-001     Lane Daniels   \n",
       "1  112.01         11.201         Medium      IZ-002    Alvarado Kriz   \n",
       "2   31.15          3.115       Critical      EN-003       Moon Weien   \n",
       "3   26.20          2.620           High      AN-004  Sanchez Bergman   \n",
       "4  160.00         16.000       Critical      ON-005     Rowe Jackson   \n",
       "5   24.00          2.400       Critical      TO-006   Carter Barreto   \n",
       "6   54.00          5.400           High      OM-007    Mcconnell Tom   \n",
       "7   22.60          2.260       Critical      AN-008  Dennis Holloman   \n",
       "8  116.35         11.635       Critical      EN-009       Wall Olsen   \n",
       "9   54.40          5.440       Critical     TT-0010     Shepard Witt   \n",
       "\n",
       "       Segment        City         State        Country        Region  \n",
       "0     Consumer    Brisbane    Queensland      Australia       Oceania  \n",
       "1  Home Office      Berlin        Berlin        Germany       Central  \n",
       "2     Consumer     Porirua    Wellington    New Zealand       Oceania  \n",
       "3    Corporate       Kabul         Kabul    Afghanistan  Central Asia  \n",
       "4    Corporate  Townsville    Queensland      Australia       Oceania  \n",
       "5    Corporate       Bytom       Silesia         Poland          EMEA  \n",
       "6     Consumer     Chicago      Illinois  United States       Central  \n",
       "7    Corporate      Suzhou         Anhui          China    North Asia  \n",
       "8     Consumer      Juárez     Chihuahua         Mexico         North  \n",
       "9     Consumer   Soyapango  San Salvador    El Salvador       Central  "
      ]
     },
     "execution_count": 3,
     "metadata": {},
     "output_type": "execute_result"
    }
   ],
   "source": [
    "df.head(10)"
   ]
  },
  {
   "cell_type": "code",
   "execution_count": 4,
   "id": "8efb1049",
   "metadata": {},
   "outputs": [
    {
     "data": {
      "text/plain": [
       "Index(['Order ID', 'Order Date', 'Shipping Date', 'Aging', 'Ship Mode',\n",
       "       'Product Category', 'Product', 'Sales', 'Quantity', 'Discount',\n",
       "       'Profit', 'Shipping Cost', 'Order Priority', 'Customer ID',\n",
       "       'Customer Name', 'Segment', 'City', 'State', 'Country', 'Region'],\n",
       "      dtype='object')"
      ]
     },
     "execution_count": 4,
     "metadata": {},
     "output_type": "execute_result"
    }
   ],
   "source": [
    "df.columns"
   ]
  },
  {
   "cell_type": "code",
   "execution_count": 5,
   "id": "79435aeb",
   "metadata": {},
   "outputs": [
    {
     "data": {
      "text/html": [
       "<div>\n",
       "<style scoped>\n",
       "    .dataframe tbody tr th:only-of-type {\n",
       "        vertical-align: middle;\n",
       "    }\n",
       "\n",
       "    .dataframe tbody tr th {\n",
       "        vertical-align: top;\n",
       "    }\n",
       "\n",
       "    .dataframe thead th {\n",
       "        text-align: right;\n",
       "    }\n",
       "</style>\n",
       "<table border=\"1\" class=\"dataframe\">\n",
       "  <thead>\n",
       "    <tr style=\"text-align: right;\">\n",
       "      <th></th>\n",
       "      <th>Aging</th>\n",
       "      <th>Sales</th>\n",
       "      <th>Quantity</th>\n",
       "      <th>Discount</th>\n",
       "      <th>Profit</th>\n",
       "      <th>Shipping Cost</th>\n",
       "    </tr>\n",
       "  </thead>\n",
       "  <tbody>\n",
       "    <tr>\n",
       "      <th>count</th>\n",
       "      <td>51290.000000</td>\n",
       "      <td>51290.000000</td>\n",
       "      <td>51290.000000</td>\n",
       "      <td>51290.000000</td>\n",
       "      <td>51290.000000</td>\n",
       "      <td>51290.000000</td>\n",
       "    </tr>\n",
       "    <tr>\n",
       "      <th>mean</th>\n",
       "      <td>5.255040</td>\n",
       "      <td>156.431683</td>\n",
       "      <td>2.997309</td>\n",
       "      <td>0.029971</td>\n",
       "      <td>72.721836</td>\n",
       "      <td>7.272184</td>\n",
       "    </tr>\n",
       "    <tr>\n",
       "      <th>std</th>\n",
       "      <td>2.959905</td>\n",
       "      <td>65.781374</td>\n",
       "      <td>1.413453</td>\n",
       "      <td>0.014114</td>\n",
       "      <td>49.099328</td>\n",
       "      <td>4.909933</td>\n",
       "    </tr>\n",
       "    <tr>\n",
       "      <th>min</th>\n",
       "      <td>1.000000</td>\n",
       "      <td>33.000000</td>\n",
       "      <td>1.000000</td>\n",
       "      <td>0.010000</td>\n",
       "      <td>0.510000</td>\n",
       "      <td>0.051000</td>\n",
       "    </tr>\n",
       "    <tr>\n",
       "      <th>25%</th>\n",
       "      <td>3.000000</td>\n",
       "      <td>109.000000</td>\n",
       "      <td>2.000000</td>\n",
       "      <td>0.020000</td>\n",
       "      <td>25.730000</td>\n",
       "      <td>2.573000</td>\n",
       "    </tr>\n",
       "    <tr>\n",
       "      <th>50%</th>\n",
       "      <td>5.000000</td>\n",
       "      <td>159.000000</td>\n",
       "      <td>3.000000</td>\n",
       "      <td>0.030000</td>\n",
       "      <td>67.000000</td>\n",
       "      <td>6.700000</td>\n",
       "    </tr>\n",
       "    <tr>\n",
       "      <th>75%</th>\n",
       "      <td>8.000000</td>\n",
       "      <td>218.000000</td>\n",
       "      <td>4.000000</td>\n",
       "      <td>0.040000</td>\n",
       "      <td>120.560000</td>\n",
       "      <td>12.056000</td>\n",
       "    </tr>\n",
       "    <tr>\n",
       "      <th>max</th>\n",
       "      <td>10.000000</td>\n",
       "      <td>250.000000</td>\n",
       "      <td>5.000000</td>\n",
       "      <td>0.050000</td>\n",
       "      <td>167.500000</td>\n",
       "      <td>16.750000</td>\n",
       "    </tr>\n",
       "  </tbody>\n",
       "</table>\n",
       "</div>"
      ],
      "text/plain": [
       "              Aging         Sales      Quantity      Discount        Profit  \\\n",
       "count  51290.000000  51290.000000  51290.000000  51290.000000  51290.000000   \n",
       "mean       5.255040    156.431683      2.997309      0.029971     72.721836   \n",
       "std        2.959905     65.781374      1.413453      0.014114     49.099328   \n",
       "min        1.000000     33.000000      1.000000      0.010000      0.510000   \n",
       "25%        3.000000    109.000000      2.000000      0.020000     25.730000   \n",
       "50%        5.000000    159.000000      3.000000      0.030000     67.000000   \n",
       "75%        8.000000    218.000000      4.000000      0.040000    120.560000   \n",
       "max       10.000000    250.000000      5.000000      0.050000    167.500000   \n",
       "\n",
       "       Shipping Cost  \n",
       "count   51290.000000  \n",
       "mean        7.272184  \n",
       "std         4.909933  \n",
       "min         0.051000  \n",
       "25%         2.573000  \n",
       "50%         6.700000  \n",
       "75%        12.056000  \n",
       "max        16.750000  "
      ]
     },
     "execution_count": 5,
     "metadata": {},
     "output_type": "execute_result"
    }
   ],
   "source": [
    "df.describe()"
   ]
  },
  {
   "cell_type": "code",
   "execution_count": 6,
   "id": "c857e345",
   "metadata": {},
   "outputs": [
    {
     "name": "stdout",
     "output_type": "stream",
     "text": [
      "<class 'pandas.core.frame.DataFrame'>\n",
      "RangeIndex: 51290 entries, 0 to 51289\n",
      "Data columns (total 20 columns):\n",
      " #   Column            Non-Null Count  Dtype         \n",
      "---  ------            --------------  -----         \n",
      " 0   Order ID          51290 non-null  object        \n",
      " 1   Order Date        51290 non-null  datetime64[ns]\n",
      " 2   Shipping Date     51290 non-null  datetime64[ns]\n",
      " 3   Aging             51290 non-null  int64         \n",
      " 4   Ship Mode         51290 non-null  object        \n",
      " 5   Product Category  51290 non-null  object        \n",
      " 6   Product           51290 non-null  object        \n",
      " 7   Sales             51290 non-null  int64         \n",
      " 8   Quantity          51290 non-null  int64         \n",
      " 9   Discount          51290 non-null  float64       \n",
      " 10  Profit            51290 non-null  float64       \n",
      " 11  Shipping Cost     51290 non-null  float64       \n",
      " 12  Order Priority    51290 non-null  object        \n",
      " 13  Customer ID       51290 non-null  object        \n",
      " 14  Customer Name     51290 non-null  object        \n",
      " 15  Segment           51290 non-null  object        \n",
      " 16  City              51290 non-null  object        \n",
      " 17  State             51290 non-null  object        \n",
      " 18  Country           51290 non-null  object        \n",
      " 19  Region            51290 non-null  object        \n",
      "dtypes: datetime64[ns](2), float64(3), int64(3), object(12)\n",
      "memory usage: 7.8+ MB\n"
     ]
    }
   ],
   "source": [
    "df.info()"
   ]
  },
  {
   "cell_type": "markdown",
   "id": "14e058ed",
   "metadata": {},
   "source": [
    "##### In Data Analysis What All Things We Do"
   ]
  },
  {
   "cell_type": "raw",
   "id": "0b9f4691",
   "metadata": {},
   "source": [
    "1-Missing Values\n",
    "2-Explore About the Numerical Variables\n",
    "3-Explore About categorical Variables\n",
    "4-Finding Relationship between features"
   ]
  },
  {
   "cell_type": "markdown",
   "id": "5564b80b",
   "metadata": {},
   "source": [
    "##### Missing Values"
   ]
  },
  {
   "cell_type": "code",
   "execution_count": 7,
   "id": "523a44ca",
   "metadata": {},
   "outputs": [
    {
     "data": {
      "text/plain": [
       "[]"
      ]
     },
     "execution_count": 7,
     "metadata": {},
     "output_type": "execute_result"
    }
   ],
   "source": [
    "[i for i in df.columns if df[i].isnull().sum()>0]"
   ]
  },
  {
   "cell_type": "code",
   "execution_count": 8,
   "id": "74965c7d",
   "metadata": {},
   "outputs": [
    {
     "data": {
      "text/plain": [
       "Order ID            0\n",
       "Order Date          0\n",
       "Shipping Date       0\n",
       "Aging               0\n",
       "Ship Mode           0\n",
       "Product Category    0\n",
       "Product             0\n",
       "Sales               0\n",
       "Quantity            0\n",
       "Discount            0\n",
       "Profit              0\n",
       "Shipping Cost       0\n",
       "Order Priority      0\n",
       "Customer ID         0\n",
       "Customer Name       0\n",
       "Segment             0\n",
       "City                0\n",
       "State               0\n",
       "Country             0\n",
       "Region              0\n",
       "dtype: int64"
      ]
     },
     "execution_count": 8,
     "metadata": {},
     "output_type": "execute_result"
    }
   ],
   "source": [
    "df.isnull().sum()"
   ]
  },
  {
   "cell_type": "code",
   "execution_count": 9,
   "id": "e8d5f7e1",
   "metadata": {},
   "outputs": [
    {
     "data": {
      "text/plain": [
       "(51290, 20)"
      ]
     },
     "execution_count": 9,
     "metadata": {},
     "output_type": "execute_result"
    }
   ],
   "source": [
    "df.shape"
   ]
  },
  {
   "cell_type": "markdown",
   "id": "e298cb26",
   "metadata": {},
   "source": [
    "##### Q1:- Which segment had the best sale?"
   ]
  },
  {
   "cell_type": "code",
   "execution_count": 10,
   "id": "24848a49",
   "metadata": {},
   "outputs": [],
   "source": [
    "Segment_index=df.Segment.value_counts().index\n",
    "Segment_vales=df.Segment.value_counts().values"
   ]
  },
  {
   "cell_type": "code",
   "execution_count": 75,
   "id": "f114d52b",
   "metadata": {},
   "outputs": [
    {
     "data": {
      "image/png": "[encoded data removed]",
      "text/plain": [
       "<Figure size 432x288 with 1 Axes>"
      ]
     },
     "metadata": {},
     "output_type": "display_data"
    }
   ],
   "source": [
    "plt.pie(Segment_vales,labels=Segment_index,autopct=\"%1.2f%%\")\n",
    "plt.title(\"Sale Segment wise\\n\",fontdict={\"fontsize\":10,\"fontweight\":5,'color':\"black\"})\n",
    "plt.show()"
   ]
  },
  {
   "cell_type": "markdown",
   "id": "e2f3bfdd",
   "metadata": {},
   "source": [
    "#### Consumer has the highest sales followed by Corporate then Home Office"
   ]
  },
  {
   "cell_type": "markdown",
   "id": "3ad80fec",
   "metadata": {},
   "source": [
    "###### Q2:- Which Product Category had best sale?"
   ]
  },
  {
   "cell_type": "code",
   "execution_count": 83,
   "id": "b7727e8c",
   "metadata": {},
   "outputs": [
    {
     "data": {
      "text/plain": [
       "Product Category\n",
       "Fashion               5212097\n",
       "Home & Furniture      1319407\n",
       "Auto & Accessories    1097139\n",
       "Electronic             394738\n",
       "Name: Sales, dtype: int64"
      ]
     },
     "execution_count": 83,
     "metadata": {},
     "output_type": "execute_result"
    }
   ],
   "source": [
    "df.groupby(\"Product Category\")[\"Sales\"].sum().sort_values(ascending=False)"
   ]
  },
  {
   "cell_type": "code",
   "execution_count": 80,
   "id": "d018ea2c",
   "metadata": {},
   "outputs": [
    {
     "data": {
      "image/png": "[encoded data removed]",
      "text/plain": [
       "<Figure size 432x288 with 1 Axes>"
      ]
     },
     "metadata": {
      "needs_background": "light"
     },
     "output_type": "display_data"
    }
   ],
   "source": [
    "plt.bar(\"Product Category\",\"Sales\",data=df)\n",
    "plt.ylabel(\"Sales\")\n",
    "plt.xlabel(\"Product Category\\n\", fontdict={\"fontsize\":10,\"fontweight\":5,'color':\"black\"})\n",
    "plt.title(\"Sales by Product Category\\n\",fontdict={\"fontsize\":10,\"fontweight\":5,'color':\"black\"})\n",
    "plt.show()"
   ]
  },
  {
   "cell_type": "markdown",
   "id": "f8f137fc",
   "metadata": {},
   "source": [
    "##### Q3:- What was the best month of the sales? How much earned that month?"
   ]
  },
  {
   "cell_type": "code",
   "execution_count": 14,
   "id": "10ad60d2",
   "metadata": {},
   "outputs": [],
   "source": [
    "df[\"Order Date\"]=df[\"Order Date\"].astype(\"str\")"
   ]
  },
  {
   "cell_type": "code",
   "execution_count": 15,
   "id": "06891e1e",
   "metadata": {},
   "outputs": [],
   "source": [
    "df[\"Month\"]=df[\"Order Date\"].str[5:7]\n",
    "df[\"Month\"]=df[\"Month\"].astype(\"int32\")"
   ]
  },
  {
   "cell_type": "code",
   "execution_count": 16,
   "id": "9df2af8e",
   "metadata": {},
   "outputs": [
    {
     "data": {
      "text/html": [
       "<div>\n",
       "<style scoped>\n",
       "    .dataframe tbody tr th:only-of-type {\n",
       "        vertical-align: middle;\n",
       "    }\n",
       "\n",
       "    .dataframe tbody tr th {\n",
       "        vertical-align: top;\n",
       "    }\n",
       "\n",
       "    .dataframe thead th {\n",
       "        text-align: right;\n",
       "    }\n",
       "</style>\n",
       "<table border=\"1\" class=\"dataframe\">\n",
       "  <thead>\n",
       "    <tr style=\"text-align: right;\">\n",
       "      <th></th>\n",
       "      <th>Order ID</th>\n",
       "      <th>Order Date</th>\n",
       "      <th>Shipping Date</th>\n",
       "      <th>Aging</th>\n",
       "      <th>Ship Mode</th>\n",
       "      <th>Product Category</th>\n",
       "      <th>Product</th>\n",
       "      <th>Sales</th>\n",
       "      <th>Quantity</th>\n",
       "      <th>Discount</th>\n",
       "      <th>...</th>\n",
       "      <th>Shipping Cost</th>\n",
       "      <th>Order Priority</th>\n",
       "      <th>Customer ID</th>\n",
       "      <th>Customer Name</th>\n",
       "      <th>Segment</th>\n",
       "      <th>City</th>\n",
       "      <th>State</th>\n",
       "      <th>Country</th>\n",
       "      <th>Region</th>\n",
       "      <th>Month</th>\n",
       "    </tr>\n",
       "  </thead>\n",
       "  <tbody>\n",
       "    <tr>\n",
       "      <th>0</th>\n",
       "      <td>AU-2015-1</td>\n",
       "      <td>2015-11-09</td>\n",
       "      <td>2015-11-17</td>\n",
       "      <td>8</td>\n",
       "      <td>First Class</td>\n",
       "      <td>Auto &amp; Accessories</td>\n",
       "      <td>Car Media Players</td>\n",
       "      <td>140</td>\n",
       "      <td>2</td>\n",
       "      <td>0.05</td>\n",
       "      <td>...</td>\n",
       "      <td>4.600</td>\n",
       "      <td>Medium</td>\n",
       "      <td>LS-001</td>\n",
       "      <td>Lane Daniels</td>\n",
       "      <td>Consumer</td>\n",
       "      <td>Brisbane</td>\n",
       "      <td>Queensland</td>\n",
       "      <td>Australia</td>\n",
       "      <td>Oceania</td>\n",
       "      <td>11</td>\n",
       "    </tr>\n",
       "    <tr>\n",
       "      <th>1</th>\n",
       "      <td>AU-2015-2</td>\n",
       "      <td>2015-06-30</td>\n",
       "      <td>2015-07-02</td>\n",
       "      <td>2</td>\n",
       "      <td>First Class</td>\n",
       "      <td>Auto &amp; Accessories</td>\n",
       "      <td>Car Speakers</td>\n",
       "      <td>211</td>\n",
       "      <td>3</td>\n",
       "      <td>0.03</td>\n",
       "      <td>...</td>\n",
       "      <td>11.201</td>\n",
       "      <td>Medium</td>\n",
       "      <td>IZ-002</td>\n",
       "      <td>Alvarado Kriz</td>\n",
       "      <td>Home Office</td>\n",
       "      <td>Berlin</td>\n",
       "      <td>Berlin</td>\n",
       "      <td>Germany</td>\n",
       "      <td>Central</td>\n",
       "      <td>6</td>\n",
       "    </tr>\n",
       "    <tr>\n",
       "      <th>2</th>\n",
       "      <td>AU-2015-3</td>\n",
       "      <td>2015-12-05</td>\n",
       "      <td>2015-12-13</td>\n",
       "      <td>8</td>\n",
       "      <td>First Class</td>\n",
       "      <td>Auto &amp; Accessories</td>\n",
       "      <td>Car Body Covers</td>\n",
       "      <td>117</td>\n",
       "      <td>5</td>\n",
       "      <td>0.01</td>\n",
       "      <td>...</td>\n",
       "      <td>3.115</td>\n",
       "      <td>Critical</td>\n",
       "      <td>EN-003</td>\n",
       "      <td>Moon Weien</td>\n",
       "      <td>Consumer</td>\n",
       "      <td>Porirua</td>\n",
       "      <td>Wellington</td>\n",
       "      <td>New Zealand</td>\n",
       "      <td>Oceania</td>\n",
       "      <td>12</td>\n",
       "    </tr>\n",
       "    <tr>\n",
       "      <th>3</th>\n",
       "      <td>AU-2015-4</td>\n",
       "      <td>2015-05-09</td>\n",
       "      <td>2015-05-16</td>\n",
       "      <td>7</td>\n",
       "      <td>First Class</td>\n",
       "      <td>Auto &amp; Accessories</td>\n",
       "      <td>Car &amp; Bike Care</td>\n",
       "      <td>118</td>\n",
       "      <td>2</td>\n",
       "      <td>0.05</td>\n",
       "      <td>...</td>\n",
       "      <td>2.620</td>\n",
       "      <td>High</td>\n",
       "      <td>AN-004</td>\n",
       "      <td>Sanchez Bergman</td>\n",
       "      <td>Corporate</td>\n",
       "      <td>Kabul</td>\n",
       "      <td>Kabul</td>\n",
       "      <td>Afghanistan</td>\n",
       "      <td>Central Asia</td>\n",
       "      <td>5</td>\n",
       "    </tr>\n",
       "    <tr>\n",
       "      <th>4</th>\n",
       "      <td>AU-2015-5</td>\n",
       "      <td>2015-07-09</td>\n",
       "      <td>2015-07-18</td>\n",
       "      <td>9</td>\n",
       "      <td>First Class</td>\n",
       "      <td>Auto &amp; Accessories</td>\n",
       "      <td>Tyre</td>\n",
       "      <td>250</td>\n",
       "      <td>1</td>\n",
       "      <td>0.04</td>\n",
       "      <td>...</td>\n",
       "      <td>16.000</td>\n",
       "      <td>Critical</td>\n",
       "      <td>ON-005</td>\n",
       "      <td>Rowe Jackson</td>\n",
       "      <td>Corporate</td>\n",
       "      <td>Townsville</td>\n",
       "      <td>Queensland</td>\n",
       "      <td>Australia</td>\n",
       "      <td>Oceania</td>\n",
       "      <td>7</td>\n",
       "    </tr>\n",
       "  </tbody>\n",
       "</table>\n",
       "<p>5 rows × 21 columns</p>\n",
       "</div>"
      ],
      "text/plain": [
       "    Order ID  Order Date Shipping Date  Aging    Ship Mode  \\\n",
       "0  AU-2015-1  2015-11-09    2015-11-17      8  First Class   \n",
       "1  AU-2015-2  2015-06-30    2015-07-02      2  First Class   \n",
       "2  AU-2015-3  2015-12-05    2015-12-13      8  First Class   \n",
       "3  AU-2015-4  2015-05-09    2015-05-16      7  First Class   \n",
       "4  AU-2015-5  2015-07-09    2015-07-18      9  First Class   \n",
       "\n",
       "     Product Category            Product  Sales  Quantity  Discount  ...  \\\n",
       "0  Auto & Accessories  Car Media Players    140         2      0.05  ...   \n",
       "1  Auto & Accessories       Car Speakers    211         3      0.03  ...   \n",
       "2  Auto & Accessories    Car Body Covers    117         5      0.01  ...   \n",
       "3  Auto & Accessories    Car & Bike Care    118         2      0.05  ...   \n",
       "4  Auto & Accessories               Tyre    250         1      0.04  ...   \n",
       "\n",
       "   Shipping Cost  Order Priority Customer ID    Customer Name      Segment  \\\n",
       "0          4.600          Medium      LS-001     Lane Daniels     Consumer   \n",
       "1         11.201          Medium      IZ-002    Alvarado Kriz  Home Office   \n",
       "2          3.115        Critical      EN-003       Moon Weien     Consumer   \n",
       "3          2.620            High      AN-004  Sanchez Bergman    Corporate   \n",
       "4         16.000        Critical      ON-005     Rowe Jackson    Corporate   \n",
       "\n",
       "         City       State      Country        Region Month  \n",
       "0    Brisbane  Queensland    Australia       Oceania    11  \n",
       "1      Berlin      Berlin      Germany       Central     6  \n",
       "2     Porirua  Wellington  New Zealand       Oceania    12  \n",
       "3       Kabul       Kabul  Afghanistan  Central Asia     5  \n",
       "4  Townsville  Queensland    Australia       Oceania     7  \n",
       "\n",
       "[5 rows x 21 columns]"
      ]
     },
     "execution_count": 16,
     "metadata": {},
     "output_type": "execute_result"
    }
   ],
   "source": [
    "df.head()"
   ]
  },
  {
   "cell_type": "code",
   "execution_count": 51,
   "id": "eb23f3b6",
   "metadata": {},
   "outputs": [
    {
     "data": {
      "image/png": "[encoded data removed]",
      "text/plain": [
       "<Figure size 432x288 with 1 Axes>"
      ]
     },
     "metadata": {
      "needs_background": "light"
     },
     "output_type": "display_data"
    }
   ],
   "source": [
    "Best_Month=df.groupby(\"Month\").sum()\n",
    "month=range(1,13)\n",
    "plt.bar(month,Best_Month[\"Sales\"])\n",
    "plt.xticks(month)\n",
    "plt.ylabel(\"Sales in USD $\")\n",
    "plt.xlabel(\"Months\")\n",
    "plt.grid()\n",
    "plt.show()\n"
   ]
  },
  {
   "cell_type": "code",
   "execution_count": 50,
   "id": "f5b049c5",
   "metadata": {},
   "outputs": [
    {
     "data": {
      "text/plain": [
       "Month\n",
       "12    693073\n",
       "10    689116\n",
       "3     686681\n",
       "7     685152\n",
       "1     676313\n",
       "5     672547\n",
       "8     670788\n",
       "6     664560\n",
       "4     659404\n",
       "9     658844\n",
       "11    656663\n",
       "2     610240\n",
       "Name: Sales, dtype: int64"
      ]
     },
     "execution_count": 50,
     "metadata": {},
     "output_type": "execute_result"
    }
   ],
   "source": [
    "Best_Month[\"Sales\"].sort_values(ascending=False)"
   ]
  },
  {
   "cell_type": "markdown",
   "id": "b3abd82e",
   "metadata": {},
   "source": [
    "##### December is the best month in the sales followed by the October"
   ]
  },
  {
   "cell_type": "markdown",
   "id": "e764b152",
   "metadata": {},
   "source": [
    "#### Q4:- Which country had a highest number of sale?"
   ]
  },
  {
   "cell_type": "code",
   "execution_count": 18,
   "id": "7ebe7c83",
   "metadata": {},
   "outputs": [],
   "source": [
    "country=df.groupby(\"Country\").sum()\n",
    "countries=[country for country,df in df.groupby(\"Country\")]"
   ]
  },
  {
   "cell_type": "code",
   "execution_count": 19,
   "id": "a96324ee",
   "metadata": {},
   "outputs": [],
   "source": [
    "Highest_number_sales_by_Country=country[\"Sales\"].sort_values(ascending=False)[:15]"
   ]
  },
  {
   "cell_type": "code",
   "execution_count": 20,
   "id": "d59bd89a",
   "metadata": {},
   "outputs": [
    {
     "data": {
      "text/plain": [
       "Country\n",
       "United States     1562170\n",
       "Australia          442452\n",
       "France             437441\n",
       "Mexico             418795\n",
       "Germany            323619\n",
       "China              296640\n",
       "United Kingdom     253975\n",
       "Brazil             247794\n",
       "India              244746\n",
       "Indonesia          222590\n",
       "Turkey             218229\n",
       "Italy              173996\n",
       "Nigeria            142089\n",
       "Spain              133020\n",
       "El Salvador        118124\n",
       "Name: Sales, dtype: int64"
      ]
     },
     "execution_count": 20,
     "metadata": {},
     "output_type": "execute_result"
    }
   ],
   "source": [
    "Highest_number_sales_by_Country"
   ]
  },
  {
   "cell_type": "code",
   "execution_count": 72,
   "id": "c0a15285",
   "metadata": {},
   "outputs": [
    {
     "name": "stderr",
     "output_type": "stream",
     "text": [
      "C:\\Python\\lib\\site-packages\\seaborn\\_decorators.py:36: FutureWarning: Pass the following variables as keyword args: x, y. From version 0.12, the only valid positional argument will be `data`, and passing other arguments without an explicit keyword will result in an error or misinterpretation.\n",
      "  warnings.warn(\n"
     ]
    },
    {
     "data": {
      "image/png": "[encoded data removed]",
      "text/plain": [
       "<Figure size 432x288 with 1 Axes>"
      ]
     },
     "metadata": {
      "needs_background": "light"
     },
     "output_type": "display_data"
    }
   ],
   "source": [
    "sns.barplot(Highest_number_sales_by_Country.index,Highest_number_sales_by_Country.values)\n",
    "plt.title(\"Highest number of sales by Country\",fontdict={\"fontsize\":10,\"fontweight\":5,\"color\":\"black\"})\n",
    "plt.ylabel(\"Sales in USA Doller\",fontdict={\"fontsize\":10,\"fontweight\":5,\"color\":\"black\"})\n",
    "plt.xticks(rotation=45)\n",
    "plt.show()"
   ]
  },
  {
   "cell_type": "markdown",
   "id": "9714fb91",
   "metadata": {},
   "source": [
    "#### United States country had a highest number of sale."
   ]
  },
  {
   "cell_type": "markdown",
   "id": "8ea8c2f2",
   "metadata": {},
   "source": [
    "##### Q5: Which Product Category had the highest number of sales?"
   ]
  },
  {
   "cell_type": "code",
   "execution_count": 57,
   "id": "8eab468c",
   "metadata": {},
   "outputs": [
    {
     "data": {
      "text/plain": [
       "Product Category\n",
       "Fashion               5212097\n",
       "Home & Furniture      1319407\n",
       "Auto & Accessories    1097139\n",
       "Electronic             394738\n",
       "Name: Sales, dtype: int64"
      ]
     },
     "execution_count": 57,
     "metadata": {},
     "output_type": "execute_result"
    }
   ],
   "source": [
    "df.groupby(\"Product Category\")[\"Sales\"].sum().sort_values(ascending=False)"
   ]
  },
  {
   "cell_type": "code",
   "execution_count": 84,
   "id": "429fa13a",
   "metadata": {},
   "outputs": [
    {
     "data": {
      "image/png": "[encoded data removed]",
      "text/plain": [
       "<Figure size 432x288 with 1 Axes>"
      ]
     },
     "metadata": {
      "needs_background": "light"
     },
     "output_type": "display_data"
    }
   ],
   "source": [
    "plt.bar(\"Product Category\",\"Sales\",data=df,width=0.5,align=\"center\",edgecolor=\"orange\",color=\"blue\")\n",
    "plt.title(\"Sales by product \\n\",fontdict={\"fontsize\":10,\"fontweight\":5,\"color\":\"black\"})\n",
    "plt.xlabel(\"Product Category\",fontdict={\"fontsize\":10,\"fontweight\":5,\"color\":\"black\"})\n",
    "plt.ylabel(\"Sales\",fontdict={\"fontsize\":10,\"fontweight\":5,\"color\":\"black\"})\n",
    "plt.show()"
   ]
  },
  {
   "cell_type": "markdown",
   "id": "d2d35856",
   "metadata": {},
   "source": [
    "##### Q6:- Which country had highest number of profit?"
   ]
  },
  {
   "cell_type": "code",
   "execution_count": 58,
   "id": "5c2f2bc8",
   "metadata": {},
   "outputs": [],
   "source": [
    "p=df.groupby(\"Country\").sum(\"Profit\")\n",
    "profit_by_Country=p[\"Profit\"].sort_values(ascending=False)[:15]\n"
   ]
  },
  {
   "cell_type": "code",
   "execution_count": 60,
   "id": "314b292e",
   "metadata": {},
   "outputs": [
    {
     "data": {
      "text/plain": [
       "Country\n",
       "United States     724693.950000\n",
       "Australia         205440.046667\n",
       "France            203531.773333\n",
       "Mexico            194058.790000\n",
       "Germany           149961.420000\n",
       "China             136894.296667\n",
       "United Kingdom    118614.343333\n",
       "Brazil            115342.800000\n",
       "India             114545.130000\n",
       "Indonesia         105484.230000\n",
       "Turkey            102814.743333\n",
       "Italy              80631.400000\n",
       "Nigeria            65670.133333\n",
       "Spain              61485.486667\n",
       "El Salvador        55512.876667\n",
       "Name: Profit, dtype: float64"
      ]
     },
     "execution_count": 60,
     "metadata": {},
     "output_type": "execute_result"
    }
   ],
   "source": [
    "profit_by_Country"
   ]
  },
  {
   "cell_type": "code",
   "execution_count": 52,
   "id": "602bc5d1",
   "metadata": {},
   "outputs": [
    {
     "data": {
      "image/png": "[encoded data removed]",
      "text/plain": [
       "<Figure size 432x288 with 1 Axes>"
      ]
     },
     "metadata": {
      "needs_background": "light"
     },
     "output_type": "display_data"
    }
   ],
   "source": [
    "plt.plot(profit_by_Country)\n",
    "\n",
    "plt.xticks(rotation=45)\n",
    "plt.show()"
   ]
  },
  {
   "cell_type": "markdown",
   "id": "24346b7f",
   "metadata": {},
   "source": [
    "##### United States had the highest number of profit."
   ]
  },
  {
   "cell_type": "markdown",
   "id": "8f9daaaa",
   "metadata": {},
   "source": [
    "#### Q7:- According to each Country, What is the (Average) Invoice"
   ]
  },
  {
   "cell_type": "code",
   "execution_count": 27,
   "id": "d286b9b7",
   "metadata": {},
   "outputs": [],
   "source": [
    "df[\"Price Per Product\"]=df[\"Sales\"]/df[\"Quantity\"]"
   ]
  },
  {
   "cell_type": "code",
   "execution_count": 61,
   "id": "6b0fe61a",
   "metadata": {},
   "outputs": [],
   "source": [
    "Average_invoice=df.groupby(\"Country\")[\"Price Per Product\"].mean().sort_values(ascending=False)[:15]"
   ]
  },
  {
   "cell_type": "code",
   "execution_count": 62,
   "id": "5f37b57b",
   "metadata": {},
   "outputs": [
    {
     "data": {
      "text/plain": [
       "Country\n",
       "Bahrain                 130.166667\n",
       "South Sudan             120.400000\n",
       "Burundi                 119.750000\n",
       "Taiwan                  106.275000\n",
       "Tajikistan              104.500000\n",
       "Equatorial Guinea        92.355556\n",
       "Lebanon                  90.487500\n",
       "Papua New Guinea         90.105303\n",
       "Sudan                    87.955254\n",
       "Sierra Leone             87.858889\n",
       "United Arab Emirates     87.353571\n",
       "Swaziland                87.000000\n",
       "Trinidad and Tobago      86.078889\n",
       "Tunisia                  85.932051\n",
       "Cambodia                 85.698889\n",
       "Name: Price Per Product, dtype: float64"
      ]
     },
     "execution_count": 62,
     "metadata": {},
     "output_type": "execute_result"
    }
   ],
   "source": [
    "Average_invoice"
   ]
  },
  {
   "cell_type": "code",
   "execution_count": 63,
   "id": "9d1bde9a",
   "metadata": {},
   "outputs": [
    {
     "name": "stderr",
     "output_type": "stream",
     "text": [
      "C:\\Python\\lib\\site-packages\\seaborn\\_decorators.py:36: FutureWarning: Pass the following variables as keyword args: x, y. From version 0.12, the only valid positional argument will be `data`, and passing other arguments without an explicit keyword will result in an error or misinterpretation.\n",
      "  warnings.warn(\n"
     ]
    },
    {
     "data": {
      "image/png": "[encoded data removed]",
      "text/plain": [
       "<Figure size 432x288 with 1 Axes>"
      ]
     },
     "metadata": {
      "needs_background": "light"
     },
     "output_type": "display_data"
    }
   ],
   "source": [
    "sns.barplot(Average_invoice.index,Average_invoice.values,palette=sns.color_palette(\"GnBu_d\"))\n",
    "plt.title(\"According to each Country, What is the (Average) Invoice\");\n",
    "plt.xticks(rotation=45);\n",
    "plt.show()"
   ]
  },
  {
   "cell_type": "markdown",
   "id": "fd70b815",
   "metadata": {},
   "source": [
    "##### Bahrain had the best average invoice"
   ]
  },
  {
   "cell_type": "markdown",
   "id": "49a90511",
   "metadata": {},
   "source": [
    "#### Q8 : Which product had maximum sale?"
   ]
  },
  {
   "cell_type": "code",
   "execution_count": 64,
   "id": "cb553085",
   "metadata": {},
   "outputs": [],
   "source": [
    "Maximum_sales_product=df.groupby(\"Product\")[\"Quantity\"].sum().sort_values(ascending=False)[:15]"
   ]
  },
  {
   "cell_type": "code",
   "execution_count": 65,
   "id": "6685b5af",
   "metadata": {},
   "outputs": [
    {
     "data": {
      "text/plain": [
       "Product\n",
       "Titak watch       8535\n",
       "Sports Wear       8512\n",
       "Formal Shoes      8438\n",
       "Casula Shoes      8436\n",
       "Sneakers          8353\n",
       "T - Shirts        8346\n",
       "Running Shoes     8345\n",
       "Fossil Watch      8308\n",
       "Suits             8295\n",
       "Jeans             8266\n",
       "Shirts            8237\n",
       "Beds              3142\n",
       "Sofa Covers       3140\n",
       "Dinning Tables    3140\n",
       "Sofas             3126\n",
       "Name: Quantity, dtype: int64"
      ]
     },
     "execution_count": 65,
     "metadata": {},
     "output_type": "execute_result"
    }
   ],
   "source": [
    "Maximum_sales_product"
   ]
  },
  {
   "cell_type": "code",
   "execution_count": 71,
   "id": "a92cd403",
   "metadata": {},
   "outputs": [
    {
     "name": "stderr",
     "output_type": "stream",
     "text": [
      "C:\\Python\\lib\\site-packages\\seaborn\\_decorators.py:36: FutureWarning: Pass the following variables as keyword args: x, y. From version 0.12, the only valid positional argument will be `data`, and passing other arguments without an explicit keyword will result in an error or misinterpretation.\n",
      "  warnings.warn(\n"
     ]
    },
    {
     "data": {
      "image/png": "[encoded data removed]",
      "text/plain": [
       "<Figure size 432x288 with 1 Axes>"
      ]
     },
     "metadata": {
      "needs_background": "light"
     },
     "output_type": "display_data"
    }
   ],
   "source": [
    "sns.barplot(Maximum_sales_product.index,Maximum_sales_product.values)\n",
    "plt.xticks(rotation=45)\n",
    "plt.title(\"Sales By Product\")\n",
    "plt.ylabel(\"Sales\")\n",
    "plt.show()"
   ]
  },
  {
   "cell_type": "code",
   "execution_count": null,
   "id": "568e0194",
   "metadata": {},
   "outputs": [],
   "source": []
  }
 ],
 "metadata": {
  "kernelspec": {
   "display_name": "Python 3 (ipykernel)",
   "language": "python",
   "name": "python3"
  },
  "language_info": {
   "codemirror_mode": {
    "name": "ipython",
    "version": 3
   },
   "file_extension": ".py",
   "mimetype": "text/x-python",
   "name": "python",
   "nbconvert_exporter": "python",
   "pygments_lexer": "ipython3",
   "version": "3.9.12"
  }
 },
 "nbformat": 4,
 "nbformat_minor": 5
}
